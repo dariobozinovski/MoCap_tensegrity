{
 "cells": [
  {
   "cell_type": "markdown",
   "metadata": {},
   "source": [
    "# Create video resources from raw slomo footage of drop tests"
   ]
  },
  {
   "cell_type": "markdown",
   "metadata": {},
   "source": [
    "Dependencies"
   ]
  },
  {
   "cell_type": "code",
   "execution_count": 7,
   "metadata": {},
   "outputs": [],
   "source": [
    "from moviepy.editor  import VideoFileClip, clips_array, vfx\n",
    "from IPython.display import Video"
   ]
  },
  {
   "cell_type": "markdown",
   "metadata": {},
   "source": [
    "Helper functions for stitching and slow motion"
   ]
  },
  {
   "cell_type": "code",
   "execution_count": 2,
   "metadata": {},
   "outputs": [],
   "source": [
    "def stitch_videos_2x2(video_files, output_file):\n",
    "    \"\"\"\n",
    "    Stitches four videos together in a 2x2 grid and saves the result.\n",
    "\n",
    "    Parameters:\n",
    "    - video_files: List of paths to the four video files.\n",
    "    - output_file: Path to save the output stitched video.\n",
    "    \"\"\"\n",
    "    if len(video_files) != 4:\n",
    "        raise ValueError(\"Exactly four video files are required.\")\n",
    "    \n",
    "    # Load the video clips\n",
    "    clips = [VideoFileClip(file) for file in video_files]\n",
    "    \n",
    "    # Resize clips to the same size (smallest width and height of the four clips)\n",
    "    min_width = min(clip.size[0] for clip in clips)\n",
    "    min_height = min(clip.size[1] for clip in clips)\n",
    "    clips = [clip.resize((min_width, min_height)) for clip in clips]\n",
    "    \n",
    "    # Arrange clips in a 2x2 grid\n",
    "    final_clip = clips_array([[clips[0], clips[1]],\n",
    "                              [clips[2], clips[3]]])\n",
    "    \n",
    "    # Write the result to a file\n",
    "    final_clip.write_videofile(output_file, codec='libx264')\n",
    "\n",
    "\n",
    "def create_slow_motion_video(input_file, output_file, target_fps=30):\n",
    "    \"\"\"\n",
    "    Creates a slow-motion video from a high frame rate video by reducing the frame rate.\n",
    "\n",
    "    Parameters:\n",
    "    - input_file: Path to the input high frame rate video file (e.g., 240 fps).\n",
    "    - output_file: Path to save the output slow-motion video file.\n",
    "    - target_fps: The target frame rate for the slow-motion video (default is 30 fps).\n",
    "    \"\"\"\n",
    "    # Load the high frame rate video\n",
    "    clip = VideoFileClip(input_file)\n",
    "\n",
    "    # Calculate the slow motion factor\n",
    "    original_fps = clip.fps\n",
    "    slow_motion_factor = original_fps / target_fps\n",
    "\n",
    "    # Adjust the video speed to create slow motion\n",
    "    slow_motion_clip = clip.fx(vfx.speedx, factor=1/slow_motion_factor)\n",
    "\n",
    "    # Set the final frame rate\n",
    "    slow_motion_clip = slow_motion_clip.set_fps(target_fps)\n",
    "\n",
    "    # Write the result to a file\n",
    "    slow_motion_clip.write_videofile(output_file, codec='libx264')"
   ]
  },
  {
   "cell_type": "markdown",
   "metadata": {},
   "source": [
    "Process and create video"
   ]
  },
  {
   "cell_type": "code",
   "execution_count": 9,
   "metadata": {},
   "outputs": [
    {
     "name": "stdout",
     "output_type": "stream",
     "text": [
      "Moviepy - Building video out/videos/stitched_drops.mp4.\n",
      "MoviePy - Writing audio in stitched_dropsTEMP_MPY_wvf_snd.mp3\n"
     ]
    },
    {
     "name": "stderr",
     "output_type": "stream",
     "text": [
      "                                                       \r"
     ]
    },
    {
     "name": "stdout",
     "output_type": "stream",
     "text": [
      "MoviePy - Done.\n",
      "Moviepy - Writing video out/videos/stitched_drops.mp4\n",
      "\n"
     ]
    },
    {
     "name": "stderr",
     "output_type": "stream",
     "text": [
      "                                                              \r"
     ]
    },
    {
     "name": "stdout",
     "output_type": "stream",
     "text": [
      "Moviepy - Done !\n",
      "Moviepy - video ready out/videos/stitched_drops.mp4\n",
      "Moviepy - Building video out/videos/slomo_drops.mp4.\n",
      "MoviePy - Writing audio in slomo_dropsTEMP_MPY_wvf_snd.mp3\n"
     ]
    },
    {
     "name": "stderr",
     "output_type": "stream",
     "text": [
      "                                                                    \r"
     ]
    },
    {
     "name": "stdout",
     "output_type": "stream",
     "text": [
      "MoviePy - Done.\n",
      "Moviepy - Writing video out/videos/slomo_drops.mp4\n",
      "\n"
     ]
    },
    {
     "name": "stderr",
     "output_type": "stream",
     "text": [
      "                                                              \r"
     ]
    },
    {
     "name": "stdout",
     "output_type": "stream",
     "text": [
      "Moviepy - Done !\n",
      "Moviepy - video ready out/videos/slomo_drops.mp4\n"
     ]
    }
   ],
   "source": [
    "vids = ['data/impact_slomo_vids/triangle_contact_clipped.mov',\n",
    "        'data/impact_slomo_vids/openthree_contact_clipped.mov',\n",
    "        'data/impact_slomo_vids/twoorthogonal_contact_clipped.mov',\n",
    "        'data/impact_slomo_vids/twooffangle_contact_clipped.mov']\n",
    "\n",
    "stitch_videos_2x2(vids, 'out/videos/stitched_drops.mp4')\n",
    "create_slow_motion_video('out/videos/stitched_drops.mp4', 'out/videos/slomo_drops.mp4', target_fps=15)"
   ]
  },
  {
   "cell_type": "markdown",
   "metadata": {},
   "source": [
    "Display video output"
   ]
  },
  {
   "cell_type": "code",
   "execution_count": 12,
   "metadata": {},
   "outputs": [
    {
     "data": {
      "text/html": [
       "<video src=\"out/videos/slomo_drops.mp4\" controls  >\n",
       "      Your browser does not support the <code>video</code> element.\n",
       "    </video>"
      ],
      "text/plain": [
       "<IPython.core.display.Video object>"
      ]
     },
     "execution_count": 12,
     "metadata": {},
     "output_type": "execute_result"
    }
   ],
   "source": [
    "Video('out/videos/slomo_drops.mp4')"
   ]
  }
 ],
 "metadata": {
  "kernelspec": {
   "display_name": "tensegrity_analysis",
   "language": "python",
   "name": "python3"
  },
  "language_info": {
   "codemirror_mode": {
    "name": "ipython",
    "version": 3
   },
   "file_extension": ".py",
   "mimetype": "text/x-python",
   "name": "python",
   "nbconvert_exporter": "python",
   "pygments_lexer": "ipython3",
   "version": "3.11.9"
  }
 },
 "nbformat": 4,
 "nbformat_minor": 2
}
